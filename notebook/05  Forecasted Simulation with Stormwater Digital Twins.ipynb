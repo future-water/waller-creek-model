{
 "cells": [
  {
   "cell_type": "markdown",
   "metadata": {},
   "source": [
    "# Load modules"
   ]
  },
  {
   "cell_type": "code",
   "execution_count": 21,
   "metadata": {},
   "outputs": [],
   "source": [
    "import numpy as np\n",
    "import pandas as pd\n",
    "from datetime import datetime, timedelta\n",
    "import math\n",
    "\n",
    "from pipedream_solver.hydraulics import SuperLink\n",
    "from pipedream_solver.simulation import Simulation\n",
    "from pipedream_solver.nutils import interpolate_sample\n",
    "import seaborn as sns\n",
    "from dateutil import tz\n",
    "import matplotlib.pyplot as plt\n",
    "%matplotlib inline\n",
    "# Define runoff functions\n",
    "from hydrology import scs_composite_CN, scs_excess_precipitation, scs_uh_runoff, precip_data, scs_excess_precipitation"
   ]
  },
  {
   "cell_type": "markdown",
   "metadata": {},
   "source": [
    "# Simulation parameters"
   ]
  },
  {
   "cell_type": "code",
   "execution_count": 2,
   "metadata": {},
   "outputs": [],
   "source": [
    "\n",
    "## Load pipedream model information \n",
    "superjunctions = pd.read_csv('../data/waller_superjunctions.csv', index_col=0)  \n",
    "superlinks = pd.read_csv('../data/waller_creek_superlinks.csv', index_col=0) \n",
    "subbasins = pd.read_csv('../data/Waller_HMS_model_data.csv', index_col=0)\n",
    "\n",
    "# Specify simulation parameters\n",
    "# Unit conversions\n",
    "m_per_ft = 0.3048\n",
    "ft_per_mi = 5280.\n",
    "in_per_ft = 12.\n",
    "s_per_min = 60\n",
    "ns_per_s = 1e9\n",
    "\n",
    "# Manual edits to model\n",
    "superlinks.loc[20, ['g2', 'g3']] = 5.6, 6.3\n",
    "superlinks.loc[21, ['g2', 'g3']] = 3.7, 3.977146367746631\n",
    "superlinks.loc[22, ['g2', 'g3']] = 0., 7.777146367746631\n",
    "superlinks.loc[23, ['g2', 'g3']] = 0., 8.3714367746631\n",
    "superlinks['C_uk'] = 0.\n",
    "superlinks['C_dk'] = 0.\n",
    "superjunctions.loc[16, ['z_inv']]=147.9\n",
    "\n",
    "\n",
    "# Simulation params\n",
    "sample_interval = 30\n",
    "site_junction_name = 'J_WLR18_COMB_HEMP'\n",
    "site_link_name = 'R_WLR16'\n",
    "site_junction_index = 14\n",
    "site_link_index = 21\n",
    "\n",
    "# Load unit hydrograph\n",
    "# Load dimensionless unit hydrograph\n",
    "uh__dimless = pd.read_csv('../data/unit_hydrograph.csv')\n",
    "# Drop unnecessary columns and rows\n",
    "uh__dimless = uh__dimless[['time ratios', 'discharge ratios']].dropna()\n",
    "dt = 10\n",
    "\n",
    "# Set up Kalman filtering parameters\n",
    "n = len(superjunctions)\n",
    "p = n\n",
    "m = 4\n",
    "\n",
    "process_std_dev = 1e-2\n",
    "measurement_std_dev = 2e-4\n",
    "\n",
    "H_kal = np.zeros((m, n))\n",
    "H_kal[0, 13] = 1.\n",
    "H_kal[1, 14] = 1.\n",
    "H_kal[2, 15] = 1.\n",
    "H_kal[3, 16] = 1.\n",
    "Qcov = (process_std_dev**2)*np.eye(p)\n",
    "Rcov = (measurement_std_dev**2)*np.eye(m)\n",
    "\n",
    "C_kal = np.zeros((n, p))\n",
    "C_kal[np.arange(n), np.arange(p)] = 1."
   ]
  },
  {
   "cell_type": "markdown",
   "metadata": {},
   "source": [
    "# Load precipitation data"
   ]
  },
  {
   "cell_type": "code",
   "execution_count": 3,
   "metadata": {},
   "outputs": [],
   "source": [
    "# Add LCRA data (Flow, depth, and precipitation data for the 'Waller Creek at 23rd Street' gage from the LCRA site.)\n",
    "LCRA= pd.read_excel('../data/LCRA_Export/LCRA_Export_2023.xlsx')[8:]\n",
    "LCRA = LCRA.set_index('Site Name')\n",
    "LCRA.index.name = 'Time'\n",
    "# Handle timezone\n",
    "LCRA = LCRA.tz_localize('US/Central', nonexistent='shift_forward').tz_convert('UTC')\n",
    "# Rename columns to be more descriptive\n",
    "LCRA = LCRA.rename(columns={'W3A' : 'depth__ft', 'W3A.1' : 'flow_rate__cfs', 'W3A.3' : 'precip_tot__in'})\n",
    "LCRA = LCRA.drop('W3A.2', axis=1)\n"
   ]
  },
  {
   "cell_type": "code",
   "execution_count": 4,
   "metadata": {},
   "outputs": [],
   "source": [
    "#Forecast precipitation \n",
    "forecast = pd.read_csv('../data/rainfall_data/precip__in_forecast.csv', index_col=0)\n",
    "forecast.index = pd.to_datetime(pd.Series(forecast.index))\n",
    "forecast = forecast.tz_localize('UTC')\n",
    "# Compute inches of precipitation for desired sample interval\n",
    "forecast_precip_in = sample_interval * forecast['precip_rate__in_per_s'].resample(f'{sample_interval}s').mean().interpolate()\n"
   ]
  },
  {
   "cell_type": "code",
   "execution_count": 5,
   "metadata": {},
   "outputs": [],
   "source": [
    "def precip_data(LCRA, start_date, end_date):\n",
    "    LCRA = LCRA.loc[start_date:end_date]\n",
    "\n",
    "    # Compute dt for each time bin\n",
    "    LCRA['dt__s'] = np.roll(pd.Series(LCRA.index).diff(1).dt.seconds.values, -1)\n",
    "    LCRA['dt__s'] = LCRA['dt__s'].fillna(method='ffill')\n",
    "    # Compute precipitation rate from total inches and dt\n",
    "    LCRA['precip_rate__in_per_s'] = LCRA['precip_tot__in'] / LCRA['dt__s']\n",
    "\n",
    "    # Compute inches of precipitation for desired sample interval\n",
    "    precip__in = sample_interval * LCRA['precip_rate__in_per_s'].astype(np.float64).resample(f'{sample_interval}s').mean().interpolate()\n",
    "    return precip__in"
   ]
  },
  {
   "cell_type": "markdown",
   "metadata": {},
   "source": [
    "# Load Sensor and simualtion  data "
   ]
  },
  {
   "cell_type": "code",
   "execution_count": 6,
   "metadata": {},
   "outputs": [],
   "source": [
    "bridge_2 = pd.read_csv('../data/sensor_measurements/bridge2_classification.csv', index_col=0)['Bridge2']\n",
    "bridge_2.index = pd.to_datetime(bridge_2.index)\n",
    "bridge_3 = pd.read_csv('../data/sensor_measurements/bridge3_classification.csv', index_col=0)['Bridge3']\n",
    "bridge_3.index = pd.to_datetime(bridge_3.index)\n",
    "bridge_4 = pd.read_csv('../data/sensor_measurements/bridge4_classification.csv', index_col=0)['Bridge4']\n",
    "bridge_4.index = pd.to_datetime(bridge_4.index)\n",
    "bridge_5 = pd.read_csv('../data/sensor_measurements/bridge5_classification.csv', index_col=0)['Bridge5']\n",
    "bridge_5.index = pd.to_datetime(bridge_5.index)\n",
    "\n",
    "h_j_forecast = pd.read_csv('../data/model_results/h_j_forecast_h1.csv', index_col=[0])\n",
    "h_j_forecast.index=pd.to_datetime(h_j_forecast.index)\n"
   ]
  },
  {
   "cell_type": "code",
   "execution_count": 7,
   "metadata": {},
   "outputs": [],
   "source": [
    "# Compute runoff into each superjunction\n",
    "def Model_initialization(precip__in,subbasins,P_now,decay_function=lambda x: 0.):\n",
    "    keepGoing=True\n",
    "    while keepGoing:\n",
    "        try:\n",
    "            Q_in = {}\n",
    "            CNs = []\n",
    "            # Manual edits to hydrology params\n",
    "            lag_time_adjust_ratio = 1.0\n",
    "            CN_adjust_ratio = 1.0\n",
    "\n",
    "\n",
    "            # For each subbasin...\n",
    "            for i in range(len(subbasins)):\n",
    "                Pnow = P_now\n",
    "                # Load subbasin parameters\n",
    "                CN_C = subbasins['Curve Number'][i]\n",
    "                A_Imp = subbasins['Impervious Percent'][i]\n",
    "                area__sq_mi = subbasins['Area (mi2)'][i]\n",
    "                downstream = subbasins['Downstream'][i]\n",
    "                lag_time__min = subbasins['Lag Time'][i] * lag_time_adjust_ratio\n",
    "\n",
    "                # Compute composite curve number\n",
    "                CN = scs_composite_CN(CN_C, A_Imp) * CN_adjust_ratio\n",
    "                CN = min(CN, 98)\n",
    "\n",
    "                # Compute excess precipitation\n",
    "                excess_precip_cum__in, excess_precip__in, P_now = scs_excess_precipitation(precip__in, CN,Pnow,decay_function=decay_function)\n",
    "\n",
    "                # Compute runoff using unit hydrograph\n",
    "                runoff__cms = scs_uh_runoff(excess_precip__in, uh__dimless, area__sq_mi, sample_interval,lag_time__min)\n",
    "                Q_in[downstream] = runoff__cms\n",
    "\n",
    "            # Format flow input as DataFrame\n",
    "            Q_in = pd.DataFrame.from_dict(Q_in)\n",
    "            # Add flow input for missing sites\n",
    "            Q_in['UPSTREAM_WALLER'] = Q_in['R_WLR01']\n",
    "            Q_in['UPSTREAM_HEMPHILL'] = Q_in['R_HEM01']\n",
    "            Q_in[[name for name in superjunctions['name'] if not name in Q_in.columns]] = 0.\n",
    "            # Ensure flow input is only for superjunctions specified in table\n",
    "            Q_in = Q_in[superjunctions['name'].tolist()]\n",
    "            # Remove NaN values\n",
    "            Q_in = Q_in.fillna(0.)\n",
    "            # Copy flow input with original timestamps\n",
    "            Q_in_orig = Q_in.copy()\n",
    "            # Convert flow input index to integer index starting with zero\n",
    "            Q_in.index = Q_in.index.astype(int) / 1e9\n",
    "            Q_in.index -= Q_in.index.min()\n",
    "            keepGoing=False\n",
    "        \n",
    "        except ValueError:\n",
    "            keepGoing=True\n",
    "        except KeyError :\n",
    "            keepGoing=True\n",
    "        except AssertionError:\n",
    "            keepGoing=True\n",
    "\n",
    "\n",
    "    return excess_precip__in,Q_in,P_now"
   ]
  },
  {
   "cell_type": "code",
   "execution_count": 8,
   "metadata": {},
   "outputs": [],
   "source": [
    "# Run simulation without KF\n",
    "def Model_simulation(excess_precip__in,Q_in,dt,superlinks,superjunctions,measurements,load_data,stop_kf_time):\n",
    "    \n",
    "    keepGoing=True\n",
    "    while keepGoing:\n",
    "        try:\n",
    "\n",
    "            superlink = SuperLink(superlinks, superjunctions,internal_links=30, mobile_elements=True)\n",
    "            \n",
    "\n",
    "            H_j = []\n",
    "            h_Ik = []\n",
    "            Q_uk = []\n",
    "            Q_dk = []\n",
    "            residuals = []\n",
    "            scores = []\n",
    "\n",
    "            # Set constant timestep (in seconds)\n",
    "\n",
    "            # Add constant baseflow\n",
    "            baseflow = 0.35e-3 * np.ones(superlink._h_Ik.size)\n",
    "\n",
    "            # Create simulation context manager\n",
    "            with Simulation(superlink, Q_in=Q_in, Qcov=Qcov, Rcov=Rcov,\n",
    "                        C=C_kal, H=H_kal, interpolation_method='nearest') as simulation:\n",
    "                simulation.model.load_state(load_data)\n",
    "                # While simulation time has not expired...\n",
    "                while simulation.t <= simulation.t_end:\n",
    "                    # Step model forward in time\n",
    "                    simulation.step(dt=dt, num_iter=8, Q_Ik=baseflow)\n",
    "                    # Get measured value\n",
    "                    cond_kf = simulation.t < stop_kf_time\n",
    "                    if cond_kf:\n",
    "                        next_measurement = interpolate_sample(simulation.t,\n",
    "                                                          measurements.index.values,\n",
    "                                                          measurements.values,\n",
    "                                                          method=0)\n",
    "                        # Apply Kalman filter with measured value\n",
    "                        H = H_kal\n",
    "                        C = C_kal\n",
    "                        Z_next = next_measurement\n",
    "                        P_x_k_k = simulation.P_x_k_k\n",
    "                        A_1, A_2, b = simulation.model._semi_implicit_system(_dt=dt)\n",
    "                        I = np.eye(A_1.shape[0])\n",
    "                        y_k1_k = b\n",
    "                        A_1_inv = np.linalg.inv(A_1)\n",
    "                        H_1 = H @ A_1_inv\n",
    "\n",
    "                        residual = (Z_next - H_1 @ y_k1_k)\n",
    "                        residuals.append(residual)\n",
    "                        \n",
    "                        cond = residual**2 > 0.5\n",
    "\n",
    "\n",
    "                        if (cond).any():\n",
    "                            H_mod = H[~cond]\n",
    "                            H_1 = H_mod @ A_1_inv\n",
    "                            Rcov_mod = Rcov[~cond][:, ~cond]\n",
    "                            Z_next = Z_next[~cond]\n",
    "                        else:\n",
    "                            H_mod = H\n",
    "                            Rcov_mod = Rcov\n",
    "\n",
    "                        P_y_k1_k = A_2 @ P_x_k_k @ A_2.T + C @ Qcov @ C.T\n",
    "                        L_y_k1 = P_y_k1_k @ H_1.T @ np.linalg.inv((H_1 @ P_y_k1_k @ H_1.T) + Rcov_mod)\n",
    "                        P_y_k1_k1 = (I - L_y_k1 @ H_1) @ P_y_k1_k\n",
    "                        b_hat = y_k1_k + L_y_k1 @ (Z_next - H_1 @ y_k1_k)\n",
    "                        P_x_k1_k1 = A_1_inv @ P_y_k1_k1 @ A_1_inv.T\n",
    "                        #if score < 1e-7:\n",
    "                        simulation.P_x_k_k = P_x_k1_k1\n",
    "                        simulation.model.b = b_hat\n",
    "                        simulation.model.iter_count -= 1\n",
    "                        simulation.model.t -= dt\n",
    "                        simulation.model._solve_step(dt=dt)\n",
    "\n",
    "                    #simulation.kalman_filter(next_measurement, dt=dt)\n",
    "                    simulation.model.reposition_junctions()\n",
    "                    # Print progress bar\n",
    "                    simulation.print_progress()\n",
    "                    # Save states\n",
    "                    H_j.append(simulation.model.H_j.copy())\n",
    "                    h_Ik.append(simulation.model.h_Ik.copy())\n",
    "                    Q_uk.append(simulation.model.Q_uk.copy())\n",
    "                    Q_dk.append(simulation.model.Q_dk.copy())\n",
    "\n",
    "            time_index = pd.date_range(start=excess_precip__in.index.min(), \n",
    "                                               periods=len(H_j), \n",
    "                                               freq=f'{dt}s')\n",
    "\n",
    "            # Convert saved states to dataframes\n",
    "            H_j = pd.DataFrame(np.vstack(H_j), index=time_index, columns=superjunctions['name'])\n",
    "            h_Ik = pd.DataFrame(np.vstack(h_Ik), index=time_index)\n",
    "            Q_uk = pd.DataFrame(np.vstack(Q_uk), index=time_index, columns=superlinks['name'])\n",
    "            Q_dk = pd.DataFrame(np.vstack(Q_dk), index=time_index, columns=superlinks['name'])\n",
    "            \n",
    "\n",
    "            # Compute depth\n",
    "            h_j = H_j - simulation.model._z_inv_j\n",
    "\n",
    "            final_data=simulation.model.states\n",
    "\n",
    "            keepGoing=False\n",
    "        \n",
    "        except ValueError:\n",
    "            keepGoing=True\n",
    "        except KeyError :\n",
    "            keepGoing=True\n",
    "        except AssertionError:\n",
    "            keepGoing=True\n",
    "    \n",
    "    return H_j,h_Ik,Q_uk,Q_dk,h_j,final_data"
   ]
  },
  {
   "cell_type": "markdown",
   "metadata": {},
   "source": [
    "## DT model with KF "
   ]
  },
  {
   "cell_type": "code",
   "execution_count": 11,
   "metadata": {},
   "outputs": [
    {
     "name": "stderr",
     "output_type": "stream",
     "text": [
      "/var/folders/0z/96nhv68546j11lkz0bh80tqw0000gp/T/ipykernel_50955/67319582.py:5: SettingWithCopyWarning: \n",
      "A value is trying to be set on a copy of a slice from a DataFrame.\n",
      "Try using .loc[row_indexer,col_indexer] = value instead\n",
      "\n",
      "See the caveats in the documentation: https://pandas.pydata.org/pandas-docs/stable/user_guide/indexing.html#returning-a-view-versus-a-copy\n",
      "  LCRA['dt__s'] = np.roll(pd.Series(LCRA.index).diff(1).dt.seconds.values, -1)\n",
      "/var/folders/0z/96nhv68546j11lkz0bh80tqw0000gp/T/ipykernel_50955/67319582.py:6: SettingWithCopyWarning: \n",
      "A value is trying to be set on a copy of a slice from a DataFrame.\n",
      "Try using .loc[row_indexer,col_indexer] = value instead\n",
      "\n",
      "See the caveats in the documentation: https://pandas.pydata.org/pandas-docs/stable/user_guide/indexing.html#returning-a-view-versus-a-copy\n",
      "  LCRA['dt__s'] = LCRA['dt__s'].fillna(method='ffill')\n",
      "/var/folders/0z/96nhv68546j11lkz0bh80tqw0000gp/T/ipykernel_50955/67319582.py:8: SettingWithCopyWarning: \n",
      "A value is trying to be set on a copy of a slice from a DataFrame.\n",
      "Try using .loc[row_indexer,col_indexer] = value instead\n",
      "\n",
      "See the caveats in the documentation: https://pandas.pydata.org/pandas-docs/stable/user_guide/indexing.html#returning-a-view-versus-a-copy\n",
      "  LCRA['precip_rate__in_per_s'] = LCRA['precip_tot__in'] / LCRA['dt__s']\n"
     ]
    }
   ],
   "source": [
    "\n",
    "start_date_raingauge='20230509 00:00:00'\n",
    "end_date_raingauge='20230513 18:00:00'\n",
    "delta=pd.to_datetime(end_date_raingauge)-pd.to_datetime(start_date_raingauge)\n",
    "stop_kf_time=delta.total_seconds() \n",
    "precip__in_raingauge=precip_data(LCRA, start_date_raingauge, end_date_raingauge)\n",
    "\n",
    "start_date_forecast='20230513 18:00:01'\n",
    "end_date_forecast='20230520 00:00:00'\n",
    "precip__in_forecast = forecast_precip_in.loc[start_date_forecast:end_date_forecast]\n",
    "\n",
    "precip__in=pd.concat([precip__in_raingauge,precip__in_forecast])\n"
   ]
  },
  {
   "cell_type": "code",
   "execution_count": 12,
   "metadata": {},
   "outputs": [
    {
     "name": "stdout",
     "output_type": "stream",
     "text": [
      "[==================================================] 100.0% [472.09 s]"
     ]
    }
   ],
   "source": [
    "\n",
    "\n",
    "P_now = 0\n",
    "final_data={}\n",
    "if precip__in.empty != True:\n",
    "    excess_precip__in,Q_in,P_now=Model_initialization(precip__in,subbasins,P_now,decay_function=lambda x: (1 - 0.9974)*x)\n",
    "    \n",
    "    measurements = pd.concat([bridge_2.resample('5min').mean().interpolate(method='nearest'),\n",
    "                              bridge_5.resample('5min').mean().interpolate(method='nearest'),\n",
    "                          bridge_3.resample('5min').mean().interpolate(method='nearest'),\n",
    "                          bridge_4.resample('5min').mean().interpolate(method='nearest')\n",
    "                             ], axis=1).interpolate()\n",
    "    measurements = measurements.fillna(method='backfill')\n",
    "    measurements = measurements + superjunctions.loc[[13, 14, 15, 16], 'z_inv'].values\n",
    "    measurements.index = measurements.index - precip__in.index.min()\n",
    "    measurements.index = measurements.index.astype(int) / 1e9    \n",
    "    H_j,h_Ik,Q_uk,Q_dk,h_j,final_data=Model_simulation(excess_precip__in,Q_in,dt,superlinks,superjunctions,measurements,final_data,stop_kf_time)\n",
    "    final_data['t']=0\n",
    "\n",
    "h_j_kf = h_j.copy()"
   ]
  },
  {
   "cell_type": "markdown",
   "metadata": {},
   "source": [
    "# J_WLR16_32ND"
   ]
  },
  {
   "cell_type": "code",
   "execution_count": 13,
   "metadata": {},
   "outputs": [
    {
     "data": {
      "text/plain": [
       "Text(0, 0.5, 'Depth(m)')"
      ]
     },
     "execution_count": 13,
     "metadata": {},
     "output_type": "execute_result"
    },
    {
     "data": {
      "image/png": "[encoded data removed]",
      "text/plain": [
       "<Figure size 1296x504 with 1 Axes>"
      ]
     },
     "metadata": {
      "needs_background": "light"
     },
     "output_type": "display_data"
    }
   ],
   "source": [
    "site_junction_name = 'J_WLR16_32ND'\n",
    "site_junction_index = 13\n",
    "fig, ax = plt.subplots(1,figsize=(18, 7))\n",
    "ax.plot(bridge_2, c='tab:orange', label='Sensor1')\n",
    "h_j_kf.loc['20230509 00:00:00':'20230513 18:00:00', site_junction_name].plot(ax=ax, label='Model_kf_raingauge', c='b')\n",
    "h_j_kf.loc['20230513 18:00:00':'20230520 00:00:00', site_junction_name].plot(ax=ax, label='Model_kf_forecast', c='c')\n",
    "\n",
    "h_j_forecast.loc['20230509 00:00:00':'20230520 00:00:00', site_junction_name].plot(ax=ax, label='Model_forecast', c='m', alpha=0.7, zorder=5, linestyle=':')\n",
    "plt.xlim('20230509 00:00:00', '20230520 00:00:00')\n",
    "plt.ylim(0, 1.2)\n",
    "plt.axvline('20230513 18:00:00', linestyle='--', c='k')\n",
    "plt.text('20230513 20:00:00', 0.8, 'Stop KF', fontsize='13')\n",
    "plt.legend( fontsize='13')\n",
    "plt.xticks(rotation=0,ha='center', fontsize='13')\n",
    "plt.yticks( fontsize='13')\n",
    "plt.ylabel('Depth(m)', fontsize='13')"
   ]
  },
  {
   "cell_type": "markdown",
   "metadata": {},
   "source": [
    "# Precipitation plot"
   ]
  },
  {
   "cell_type": "code",
   "execution_count": 17,
   "metadata": {},
   "outputs": [],
   "source": [
    "#plot precipitation graph \n",
    "\n",
    "def gauge_precip_data(LCRA,sample_interval_h):\n",
    "    # Compute dt for each time bin\n",
    "    LCRA['dt__s'] = np.roll(pd.Series(LCRA.index).diff(1).dt.seconds.values, -1)\n",
    "    # Compute precipitation rate from total inches and dt\n",
    "    LCRA['precip_rate__in_per_s'] = LCRA['precip_tot__in'] / LCRA['dt__s']\n",
    "\n",
    "    # Compute inches of precipitation for desired sample interval\n",
    "    precip__mm = sample_interval_h*inch_to_mm*3600 * LCRA['precip_rate__in_per_s'].resample(f'{sample_interval_h}h').mean().interpolate()\n",
    "   \n",
    "    return precip__mm\n",
    "\n",
    "def forecast_precip_data(forecast, sample_interval_h):\n",
    "    # Compute inches of precipitation for desired sample interval\n",
    "    forecast_precip__mm = sample_interval_h*inch_to_mm*60*60 * forecast['precip_rate__in_per_s'].resample(f'{sample_interval_h}h').mean().interpolate()\n",
    "    return forecast_precip__mm\n"
   ]
  },
  {
   "cell_type": "code",
   "execution_count": 19,
   "metadata": {},
   "outputs": [],
   "source": [
    "#unit change\n",
    "inch_to_mm=25.4\n",
    "ft_to_meter=0.305"
   ]
  },
  {
   "cell_type": "code",
   "execution_count": 20,
   "metadata": {},
   "outputs": [
    {
     "data": {
      "image/png": "[encoded data removed]",
      "text/plain": [
       "<Figure size 1296x180 with 1 Axes>"
      ]
     },
     "metadata": {
      "needs_background": "light"
     },
     "output_type": "display_data"
    }
   ],
   "source": [
    "\n",
    "\n",
    "start=datetime(2023,5, 9, 0 , 0, 0)\n",
    "end=datetime(2023, 5, 18,0, 0, 0)\n",
    "start_date=start\n",
    "end_date=end\n",
    "fig, ax = plt.subplots(1,figsize=(18,2.5))\n",
    "\n",
    "sample_interval_h=1\n",
    "precip__mm=gauge_precip_data(LCRA,sample_interval_h)\n",
    "forecast_precip__mm=forecast_precip_data(forecast,sample_interval_h)\n",
    "\n",
    "ax.bar(precip__mm['20230509 0:00:00':'20230513 18:00:00'].index,precip__mm['20230509 0:00:00':'20230513 18:00:00'],width=0.022,color='k',label='Rain gauge',zorder=5)\n",
    "ax.bar(forecast_precip__mm['20230509 0:00:00':'20230520 00:00:00'].index,forecast_precip__mm['20230509 0:00:00':'20230520 00:00:00'] ,width=0.022,color='gray',label='Forecast', alpha=0.7)\n",
    "\n",
    "ax.legend(fontsize=12, loc='lower right')\n",
    "s=pd.to_datetime('20230509T00:00:00Z')\n",
    "e=pd.to_datetime('20230520T00:00:00Z')\n",
    "k=pd.to_datetime('20230513T18:00:00Z')\n",
    "ax.set_ylabel('Precip(mm)',fontsize=13)\n",
    "plt.axvline(k, linestyle='--', c='k')\n",
    "ax.invert_yaxis()\n",
    "plt.xlim(s, e)\n",
    "ax.get_xaxis().set_visible(False)"
   ]
  },
  {
   "cell_type": "code",
   "execution_count": null,
   "metadata": {},
   "outputs": [],
   "source": []
  }
 ],
 "metadata": {
  "kernelspec": {
   "display_name": "Python 3 (ipykernel)",
   "language": "python",
   "name": "python3"
  },
  "language_info": {
   "codemirror_mode": {
    "name": "ipython",
    "version": 3
   },
   "file_extension": ".py",
   "mimetype": "text/x-python",
   "name": "python",
   "nbconvert_exporter": "python",
   "pygments_lexer": "ipython3",
   "version": "3.9.13"
  }
 },
 "nbformat": 4,
 "nbformat_minor": 4
}
