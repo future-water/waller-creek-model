{
 "cells": [
  {
   "cell_type": "markdown",
   "metadata": {},
   "source": [
    "# Load modules"
   ]
  },
  {
   "cell_type": "code",
   "execution_count": 1,
   "metadata": {},
   "outputs": [],
   "source": [
    "import numpy as np\n",
    "import pandas as pd\n",
    "from pipedream_solver.hydraulics import SuperLink\n",
    "from pipedream_solver.simulation import Simulation\n",
    "from pipedream_solver.nutils import interpolate_sample\n",
    "\n",
    "import matplotlib.pyplot as plt\n",
    "import seaborn as sns\n",
    "\n",
    "import influxdb \n",
    "import pandas as pd\n",
    "from dateutil import tz\n",
    "\n",
    "# import the libraries\n",
    "import numpy as np\n",
    "import pandas as pd\n",
    "import geopandas as gpd\n",
    "import matplotlib.pyplot as plt\n",
    "from sklearn.linear_model import LinearRegression\n",
    "\n",
    "%matplotlib inline\n",
    "\n",
    "import pandas as pd\n",
    "import numpy as np\n",
    "from pipedream_solver.hydraulics import SuperLink\n",
    "from pipedream_solver.simulation import Simulation\n",
    "import ast\n",
    "import pandas as pd\n",
    "import seaborn as sns\n",
    "sns.set_palette('husl')\n",
    "\n"
   ]
  },
  {
   "cell_type": "markdown",
   "metadata": {},
   "source": [
    "# Load pipedream model information "
   ]
  },
  {
   "cell_type": "code",
   "execution_count": 2,
   "metadata": {},
   "outputs": [],
   "source": [
    "superjunctions = pd.read_csv('../data/waller_superjunctions.csv', index_col=0)  \n",
    "superlinks = pd.read_csv('../data/waller_creek_superlinks.csv', index_col=0) \n",
    "subbasins = pd.read_excel('../data/Waller_HMS_model_data.xlsx', sheet_name=0)"
   ]
  },
  {
   "cell_type": "code",
   "execution_count": null,
   "metadata": {},
   "outputs": [],
   "source": []
  },
  {
   "cell_type": "code",
   "execution_count": null,
   "metadata": {},
   "outputs": [],
   "source": []
  },
  {
   "cell_type": "markdown",
   "metadata": {},
   "source": [
    "# Specify simulation parameters"
   ]
  },
  {
   "cell_type": "code",
   "execution_count": 3,
   "metadata": {},
   "outputs": [],
   "source": [
    "# Unit conversions\n",
    "m_per_ft = 0.3048\n",
    "ft_per_mi = 5280.\n",
    "in_per_ft = 12.\n",
    "s_per_min = 60\n",
    "ns_per_s = 1e9\n",
    "\n",
    "# Manual edits to model\n",
    "superlinks.loc[21, ['g2', 'g3']] = 0.1, 7.777146367746631\n",
    "superlinks['C_uk'] = 0.\n",
    "superlinks['C_dk'] = 0.\n",
    "\n",
    "# Manual edits to hydrology params\n",
    "lag_time_adjust_ratio = 1.0\n",
    "CN_adjust_ratio = 1.0\n",
    "\n",
    "# Simulation params\n",
    "sample_interval = 30\n",
    "node_ids = ['Bridge1','Bridge2','Bridge3','Bridge4','Bridge5']\n",
    "site_junction_name = 'J_WLR18_COMB_HEMP'\n",
    "site_link_name = 'R_WLR16'\n",
    "site_junction_index = 14\n",
    "site_link_index = 21"
   ]
  },
  {
   "cell_type": "markdown",
   "metadata": {},
   "source": [
    "# Define runoff functions"
   ]
  },
  {
   "cell_type": "code",
   "execution_count": 4,
   "metadata": {},
   "outputs": [],
   "source": [
    "def scs_composite_CN(CN_C, A_Imp):\n",
    "    # Convert CN to composite CN given percent impervious area\n",
    "    m = (99 - CN_C) / 100\n",
    "    b = CN_C\n",
    "    y = m * A_Imp + b\n",
    "    return y"
   ]
  },
  {
   "cell_type": "code",
   "execution_count": 5,
   "metadata": {},
   "outputs": [],
   "source": [
    "def scs_uh_runoff(excess_precip__in, uh__dimless, area__sq_mi, sample_interval,lag_time__min):\n",
    "    # Give unit hydrograph a time dimension corresponding to lag time\n",
    "    uh = uh__dimless.copy()\n",
    "    uh_time = uh['time ratios'] * lag_time__min * s_per_min * ns_per_s\n",
    "    uh_time = pd.to_datetime(uh_time.rename('time'))\n",
    "    uh = uh.set_index(uh_time)['discharge ratios']\n",
    "    # Resample unit hydrograph to desired time interval\n",
    "    uh = uh.resample(f'{sample_interval}s').mean().interpolate()\n",
    "    uh = uh.values    \n",
    "    # Scale unit hydrograph to have area of unity\n",
    "    uh_scaled = uh / uh.sum()\n",
    "    \n",
    "    # Convolve excess precipitation and unit hydrograph\n",
    "    conv = np.convolve(excess_precip__in.values, uh_scaled)\n",
    "    # Convert to outflow \n",
    "    area__sq_ft = area__sq_mi * (ft_per_mi)**2\n",
    "    conv__ft = conv / in_per_ft\n",
    "    runoff__cfs = (conv__ft * area__sq_ft) / sample_interval\n",
    "    runoff__cms = runoff__cfs * (m_per_ft)**3\n",
    "    time_index = pd.date_range(start=excess_precip__in.index.min(), \n",
    "                               periods=runoff__cms.size, \n",
    "                               freq=f'{sample_interval}s')\n",
    "    # Return runoff in cubic meters per second\n",
    "    runoff__cms = pd.Series(runoff__cms, index=time_index)\n",
    "    return runoff__cms"
   ]
  },
  {
   "cell_type": "markdown",
   "metadata": {},
   "source": [
    "# Load LCRA flow, depth, and precipitation data"
   ]
  },
  {
   "cell_type": "code",
   "execution_count": 6,
   "metadata": {},
   "outputs": [],
   "source": [
    "# Add LCRA data (Flow, depth, and precipitation data for the 'Waller Creek at 23rd Street' gage from the LCRA site.)\n",
    "LCRA_2022 = pd.read_excel('../data/LCRA_Export/LCRA_Export_2022.xlsx')\n",
    "LCRA_2023 = pd.read_excel('../data/LCRA_Export/LCRA_Export_2023.xlsx')\n",
    "LCRA=pd.concat([LCRA_2022[8:],LCRA_2023[8:]])\n",
    "LCRA = LCRA.set_index('Site Name')\n",
    "LCRA.index.name = 'Time'\n",
    "# Handle timezone\n",
    "LCRA = LCRA.tz_localize('US/Central', nonexistent='shift_forward').tz_convert('UTC')\n",
    "# Rename columns to be more descriptive\n",
    "LCRA = LCRA.rename(columns={'W3A' : 'depth__ft', 'W3A.1' : 'flow_rate__cfs', 'W3A.3' : 'precip_tot__in'})\n",
    "LCRA = LCRA.drop('W3A.2', axis=1)\n",
    "# Filter dataset to time period\n"
   ]
  },
  {
   "cell_type": "code",
   "execution_count": 7,
   "metadata": {},
   "outputs": [],
   "source": [
    "def precip_data(LCRA, start_date, end_date):\n",
    "    LCRA = LCRA.loc[start_date:end_date]\n",
    "\n",
    "    # Compute dt for each time bin\n",
    "    LCRA['dt__s'] = np.roll(pd.Series(LCRA.index).diff(1).dt.seconds.values, -1)\n",
    "    # Compute precipitation rate from total inches and dt\n",
    "    LCRA['precip_rate__in_per_s'] = LCRA['precip_tot__in'] / LCRA['dt__s']\n",
    "\n",
    "    # Compute inches of precipitation for desired sample interval\n",
    "    precip__in = sample_interval * LCRA['precip_rate__in_per_s'].resample(f'{sample_interval}s').mean().interpolate()\n",
    "    return precip__in"
   ]
  },
  {
   "cell_type": "markdown",
   "metadata": {},
   "source": [
    "# Load ultrasonic sensor data"
   ]
  },
  {
   "cell_type": "code",
   "execution_count": 8,
   "metadata": {},
   "outputs": [],
   "source": [
    "# Visualizing the actual depth of Waller Creeks  \n",
    "\n",
    "# set up the lists(node_id and length between node and bottom)\n",
    "node_id_list=['Bridge1','Bridge2','Bridge3','Bridge4','Bridge5']\n",
    "length_ntb_list =[3911.6, 3175, 4927.6, 4978.4, 3556]\n",
    "ntb_df=pd.DataFrame(length_ntb_list, columns=['depth'])\n",
    "ntb_df=ntb_df.set_index([node_id_list])\n",
    "\n",
    "#set up the influxDBClient \n",
    "client_dict = {'host' : 'ec2-3-91-156-8.compute-1.amazonaws.com',\n",
    "               'port' : 8086,\n",
    "               'username' : 'generic_node',\n",
    "               'password' : 'GlareShellTwilight',\n",
    "               'database' : 'RAW'}\n",
    "\n",
    "client = influxdb.InfluxDBClient(**client_dict)\n",
    "\n",
    "# definition of query to call influxdb data\n",
    "def run_query(client, field, measurement, tags, pagesize=10000):\n",
    "    \n",
    "    #select the length of node to bottom  \n",
    "    length_ntb=ntb_df.at[tags['node_id'],'depth']\n",
    "    \n",
    "    collect = []\n",
    "    times = []\n",
    "    values = []\n",
    "    q = True\n",
    "    pagenum = 0\n",
    "    # Single quotes around tags might not always work\n",
    "    tag_str = ' AND '.join([\"{key}='{value}'\".format(key=key, value=value) for key, value\n",
    "                            in tags.items()])\n",
    "    \n",
    "    \n",
    "    while q:\n",
    "        q = client.query((\"SELECT {field} FROM {measurement} WHERE {tags} \"\n",
    "                          \"LIMIT {pagesize} OFFSET {page}\")\n",
    "                          .format(field=field, measurement=measurement, tags=tag_str,\n",
    "                                  pagesize=pagesize, page=pagenum*pagesize))\n",
    "        if q:\n",
    "            collect.append(q[measurement])\n",
    "           \n",
    "        pagenum += 1\n",
    "    for resultset in collect:\n",
    "        for reading in resultset:\n",
    "            \n",
    "            #######time variable##########\n",
    "            dt_gmt=pd.Timestamp(reading['time'],tz='Etc/GMT')\n",
    "            \n",
    "            #update time of data with local time zone \n",
    "            #difference_time =pd.Timestamp(reading['time'],tz='GMT')\n",
    "            #local_time = dt_gmt +\n",
    "            times.append(dt_gmt)\n",
    "            \n",
    "            #local_zone=tz.tzlocal() \n",
    "            #local_dt=dt_gmt.astimezone(local_zone)\n",
    "            #times.append(local_dt)\n",
    "            ################################\n",
    "            values.append((length_ntb-reading[field])*0.001)\n",
    "    s = pd.Series(values, index=times)\n",
    "    \n",
    "    s.index = pd.to_datetime(s.index)\n",
    "    \n",
    "    \n",
    "    drop_index=s[s<=0].index\n",
    "    s=s.drop(index=drop_index)\n",
    "\n",
    "\n",
    "    return s\n",
    "\n",
    "\n",
    "\n"
   ]
  },
  {
   "cell_type": "markdown",
   "metadata": {},
   "source": [
    "# Compute runoff into each superjunction"
   ]
  },
  {
   "cell_type": "code",
   "execution_count": 9,
   "metadata": {},
   "outputs": [],
   "source": [
    "# Compute runoff into each superjunction\n",
    "def Model_initialization(precip__in,subbasins,P_now,decay=1.):\n",
    "    keepGoing=True\n",
    "    while keepGoing:\n",
    "        try:\n",
    "            Q_in = {}\n",
    "            CNs = []\n",
    "            # Manual edits to hydrology params\n",
    "            lag_time_adjust_ratio = 1.0\n",
    "            CN_adjust_ratio = 1.0\n",
    "\n",
    "\n",
    "            # For each subbasin...\n",
    "            for i in range(len(subbasins)):\n",
    "                P_now = 0.\n",
    "                # Load subbasin parameters\n",
    "                CN_C = subbasins['Curve Number'][i]\n",
    "                A_Imp = subbasins['Impervious Percent'][i]\n",
    "                area__sq_mi = subbasins['Area (mi2)'][i]\n",
    "                downstream = subbasins['Downstream'][i]\n",
    "                lag_time__min = subbasins['Lag Time'][i] * lag_time_adjust_ratio\n",
    "\n",
    "                # Compute composite curve number\n",
    "                CN = scs_composite_CN(CN_C, A_Imp) * CN_adjust_ratio\n",
    "                CN = min(CN, 98)\n",
    "\n",
    "                # Compute excess precipitation\n",
    "                excess_precip_cum__in, excess_precip__in, P_now = scs_excess_precipitation(precip__in, CN,P_now,decay=decay)\n",
    "\n",
    "                # Compute runoff using unit hydrograph\n",
    "                runoff__cms = scs_uh_runoff(excess_precip__in, uh__dimless, area__sq_mi, sample_interval,lag_time__min)\n",
    "                Q_in[downstream] = runoff__cms\n",
    "\n",
    "            # Format flow input as DataFrame\n",
    "            Q_in = pd.DataFrame.from_dict(Q_in)\n",
    "            # Add flow input for missing sites\n",
    "            Q_in['UPSTREAM_WALLER'] = Q_in['R_WLR01']\n",
    "            Q_in['UPSTREAM_HEMPHILL'] = Q_in['R_HEM01']\n",
    "            Q_in[[name for name in superjunctions['name'] if not name in Q_in.columns]] = 0.\n",
    "            # Ensure flow input is only for superjunctions specified in table\n",
    "            Q_in = Q_in[superjunctions['name'].tolist()]\n",
    "            # Remove NaN values\n",
    "            Q_in = Q_in.fillna(0.)\n",
    "            # Copy flow input with original timestamps\n",
    "            Q_in_orig = Q_in.copy()\n",
    "            # Convert flow input index to integer index starting with zero\n",
    "            Q_in.index = Q_in.index.astype(int) / 1e9\n",
    "            Q_in.index -= Q_in.index.min()\n",
    "            keepGoing=False\n",
    "        \n",
    "        except ValueError:\n",
    "            keepGoing=True\n",
    "        except KeyError :\n",
    "            keepGoing=True\n",
    "        except AssertionError:\n",
    "            keepGoing=True\n",
    "\n",
    "\n",
    "    return excess_precip__in,Q_in,P_now"
   ]
  },
  {
   "cell_type": "code",
   "execution_count": 10,
   "metadata": {},
   "outputs": [],
   "source": [
    "# Run simulation without KF\n",
    "def Model_simulation(excess_precip__in,Q_in,dt,superlinks,superjunctions,load_data):\n",
    "    load_data=load_data\n",
    "    keepGoing=True\n",
    "    while keepGoing:\n",
    "        try:\n",
    "\n",
    "\n",
    "            superlink = SuperLink(superlinks, superjunctions,internal_links=30, mobile_elements=True)\n",
    "            \n",
    "\n",
    "            H_j = []\n",
    "            h_Ik = []\n",
    "            Q_uk = []\n",
    "            Q_dk = []\n",
    "\n",
    "            # Set constant timestep (in seconds)\n",
    "\n",
    "            # Add constant baseflow\n",
    "            baseflow = 0.22e-3 * np.ones(superlink._h_Ik.size)\n",
    "\n",
    "            # Create simulation context manager\n",
    "            with Simulation(superlink, Q_in=Q_in) as simulation:\n",
    "                print(load_data)\n",
    "                simulation.model.load_state(load_data)\n",
    "                # While simulation time has not expired...\n",
    "                print(simulation.t,simulation.t_end)\n",
    "                \n",
    "                while simulation.t <= simulation.t_end:\n",
    "                    # Step model forward in time\n",
    "                    simulation.step(dt=dt, num_iter=8, Q_Ik=baseflow)\n",
    "                    simulation.model.reposition_junctions()\n",
    "                    # Print progress bar\n",
    "                    simulation.print_progress()\n",
    "                    # Save states\n",
    "                    H_j.append(simulation.model.H_j.copy())\n",
    "                    h_Ik.append(simulation.model.h_Ik.copy())\n",
    "                    Q_uk.append(simulation.model.Q_uk.copy())\n",
    "                    Q_dk.append(simulation.model.Q_dk.copy())\n",
    "\n",
    "            time_index = pd.date_range(start=excess_precip__in.index.min(), \n",
    "                                       periods=len(H_j), \n",
    "                                       freq=f'{dt}s')\n",
    "\n",
    "            # Convert saved states to dataframes\n",
    "            H_j = pd.DataFrame(np.vstack(H_j), index=time_index, columns=superjunctions['name'])\n",
    "            h_Ik = pd.DataFrame(np.vstack(h_Ik), index=time_index)\n",
    "            Q_uk = pd.DataFrame(np.vstack(Q_uk), index=time_index, columns=superlinks['name'])\n",
    "            Q_dk = pd.DataFrame(np.vstack(Q_dk), index=time_index, columns=superlinks['name'])\n",
    "\n",
    "            # Compute depth\n",
    "            h_j = H_j - simulation.model._z_inv_j\n",
    "            final_data=simulation.model.states\n",
    "            \n",
    "            \n",
    "            keepGoing=False\n",
    "        \n",
    "        except ValueError:\n",
    "            keepGoing=True\n",
    "        except KeyError :\n",
    "            keepGoing=True\n",
    "        except AssertionError:\n",
    "            keepGoing=True\n",
    "\n",
    "    \n",
    "    return H_j,h_Ik,Q_uk,Q_dk,h_j,final_data"
   ]
  },
  {
   "cell_type": "code",
   "execution_count": 11,
   "metadata": {},
   "outputs": [],
   "source": [
    "\n",
    "\n",
    "# Load pipedream model information \n",
    "superjunctions = pd.read_csv('../data/waller_superjunctions.csv', index_col=0)  \n",
    "superlinks = pd.read_csv('../data/waller_creek_superlinks.csv', index_col=0) \n",
    "subbasins = pd.read_csv('../data/Waller_HMS_model_data.csv', index_col=0)\n",
    "\n",
    "# Specify simulation parameters\n",
    "# Unit conversions\n",
    "m_per_ft = 0.3048\n",
    "ft_per_mi = 5280.\n",
    "in_per_ft = 12.\n",
    "s_per_min = 60\n",
    "ns_per_s = 1e9\n",
    "\n",
    "# Manual edits to model\n",
    "superlinks.loc[21, ['g2', 'g3']] = 0., 7.777146367746631\n",
    "superlinks['C_uk'] = 0.\n",
    "superlinks['C_dk'] = 0.\n",
    "\n",
    "\n",
    "# Simulation params\n",
    "sample_interval = 30\n",
    "\n",
    "site_junction_name = 'J_WLR18_COMB_HEMP'\n",
    "site_link_name = 'R_WLR16'\n",
    "site_junction_index = 14\n",
    "site_link_index = 21\n",
    "\n",
    "# Load unit hydrograph\n",
    "# Load dimensionless unit hydrograph\n",
    "uh__dimless = pd.read_csv('../data/unit_hydrograph.csv')\n",
    "# Drop unnecessary columns and rows\n",
    "uh__dimless = uh__dimless[['time ratios', 'discharge ratios']].dropna()\n",
    "dt = 10\n",
    "\n"
   ]
  },
  {
   "cell_type": "markdown",
   "metadata": {},
   "source": [
    "# Plot simulation depth output against sensor data"
   ]
  },
  {
   "cell_type": "code",
   "execution_count": 12,
   "metadata": {},
   "outputs": [],
   "source": [
    "def save_fig_depth(file_name):\n",
    "   \n",
    "    fig, ax = plt.subplots(figsize=(18, 6))\n",
    "\n",
    "    s = run_query(client, 'value', 'depth', {'node_id' : 'Bridge3'})\n",
    "    x2=s[start_date:end_date]\n",
    "    t_b2 =s[start_date:end_date].index\n",
    "    plt.plot(t_b2,x2,'-', label='Bridge3')\n",
    "\n",
    "    (m_per_ft * LCRA['depth__ft'][start_date:end_date]).plot(ax=ax, label='LCRA', c='r')\n",
    "\n",
    "\n",
    "\n",
    "\n",
    "    h_j[site_junction_name].plot(ax=ax, label='Model', c='blue', zorder=3)\n",
    "\n",
    "\n",
    "    plt.xlabel('Time', size=15)\n",
    "    plt.ylabel('Depth (m)', size=15)\n",
    "    plt.legend()\n",
    "    plt.savefig('/Users/future_water_system/Desktop/Data/waller-creek-model_result/continous_scs/Multi_storm/all_data/'+file_name+'_without_bridge2&4&5_depth_99985.png')\n",
    "\n",
    "def save_fig_flowrate(file_name):\n",
    "    fig, ax = plt.subplots(figsize=(18, 6))\n",
    "    ax.plot(Q_uk[site_link_name], label='Model', c='b')\n",
    "    (m_per_ft**3 * LCRA['flow_rate__cfs'][start_date:end_date]).plot(ax=ax, label='LCRA', c='r')\n",
    "    plt.legend()\n",
    "    plt.xlabel('Time', size=15)\n",
    "    plt.ylabel('Flow rate (cms)', size=15)\n",
    "    plt.title('Flow rate comparison', size=15)\n",
    "    plt.savefig('/Users/future_water_system/Desktop/Data/waller-creek-model_result/continous_scs/Multi_storm/all_data/'+file_name+'_flow_rate_99985.png')\n",
    "\n",
    "\n",
    "def save_fig_calibration(file_name):\n",
    "    fig, ax = plt.subplots(figsize=(10, 5))\n",
    "\n",
    "    plt.scatter(m_per_ft * LCRA['depth__ft'][start_date:end_date], m_per_ft**3 * LCRA['flow_rate__cfs'][start_date:end_date], label='LCRA',color='red')\n",
    "    plt.scatter(h_j[site_junction_name], Q_uk[site_link_name].values, label='Model' ,color='blue')\n",
    "    plt.legend()\n",
    "    plt.xlabel('Depth',size=13)\n",
    "    plt.ylabel('Discharge',size=13)\n",
    "    plt.savefig('/Users/future_water_system/Desktop/Data/waller-creek-model_result/continous_scs/Multi_storm/all_data/'+file_name+'_calibration_99985.png')\n",
    "    \n",
    "def save_fig_precip(file_name):\n",
    "    fig, ax = plt.subplots(figsize=(18, 6))\n",
    "\n",
    "    plt.plot(precip__in)\n",
    "    plt.xlabel('Time', size=15)\n",
    "    plt.ylabel('Precipitation (inch)', size=15)\n",
    "    plt.title('Rain Intensity', size=15)\n",
    "    plt.savefig('/Users/future_water_system/Desktop/Data/waller-creek-model_result/continous_scs/Multi_storm/all_data/'+file_name+'_precip_99985.png')\n"
   ]
  },
  {
   "cell_type": "code",
   "execution_count": 13,
   "metadata": {},
   "outputs": [],
   "source": [
    "def scs_excess_precipitation(precip__in, CN,P_now, decay=1.):\n",
    "    # Set up SCS parameters\n",
    "    P = precip__in.values\n",
    "    S = 1000 / CN -10 #potential maximum abstraction\n",
    "\n",
    "    \n",
    "    # Compute cumulative excess precipitation\n",
    "    Pes = []\n",
    "    Pes_inc = []\n",
    "    Pe_prev = 0.\n",
    "    P_now = P_now\n",
    "    n = len(P)\n",
    "    \n",
    "    for t in range(n):\n",
    "        Ia = 0.2 * S #inital abstraction\n",
    "        Pt = P[t] #precipitaton at time t\n",
    "     \n",
    "        P_now = Pt + P_now  #accumulated precipitation\n",
    "        loss = P_now * (1 - decay)\n",
    "        if P_now - loss <= 0.:\n",
    "            loss = 0.\n",
    "        P_now = P_now - loss  ## I used this code for scs continous but still not fit well.\n",
    "        \n",
    "        if P_now <= Ia:\n",
    "            Pe = 0.\n",
    "        else:        \n",
    "            Pe = (P_now - 0.2 * S)**2 / (P_now + 0.8 * S) #excess precipitation\n",
    "        \n",
    "        Pe_inc = Pe - Pe_prev + loss\n",
    "        Pes.append(Pe)\n",
    "        Pes_inc.append(Pe_inc)\n",
    "        Pe_prev = Pe\n",
    "        \n",
    "\n",
    "    # Assign time index to excess precipitation output\n",
    "    excess_precip_cum__in = pd.Series(Pes, index=precip__in.index)\n",
    "    excess_precip__in = pd.Series(Pes_inc, index=precip__in.index)\n",
    "    return excess_precip_cum__in, excess_precip__in, P_now "
   ]
  },
  {
   "cell_type": "code",
   "execution_count": 14,
   "metadata": {},
   "outputs": [],
   "source": [
    "s = pd.read_csv('../data/Bridge3.csv', index_col=0)['Bridge3']\n",
    "s.index = pd.to_datetime(s.index)"
   ]
  },
  {
   "cell_type": "code",
   "execution_count": 15,
   "metadata": {},
   "outputs": [
    {
     "name": "stdout",
     "output_type": "stream",
     "text": [
      "startDate20220818_endDate20220910\n"
     ]
    },
    {
     "name": "stderr",
     "output_type": "stream",
     "text": [
      "/var/folders/90/3dlsbdbn589dmj2g6887__dr0000gn/T/ipykernel_21602/1069413583.py:5: SettingWithCopyWarning: \n",
      "A value is trying to be set on a copy of a slice from a DataFrame.\n",
      "Try using .loc[row_indexer,col_indexer] = value instead\n",
      "\n",
      "See the caveats in the documentation: https://pandas.pydata.org/pandas-docs/stable/user_guide/indexing.html#returning-a-view-versus-a-copy\n",
      "  LCRA['dt__s'] = np.roll(pd.Series(LCRA.index).diff(1).dt.seconds.values, -1)\n",
      "/var/folders/90/3dlsbdbn589dmj2g6887__dr0000gn/T/ipykernel_21602/1069413583.py:7: SettingWithCopyWarning: \n",
      "A value is trying to be set on a copy of a slice from a DataFrame.\n",
      "Try using .loc[row_indexer,col_indexer] = value instead\n",
      "\n",
      "See the caveats in the documentation: https://pandas.pydata.org/pandas-docs/stable/user_guide/indexing.html#returning-a-view-versus-a-copy\n",
      "  LCRA['precip_rate__in_per_s'] = LCRA['precip_tot__in'] / LCRA['dt__s']\n"
     ]
    },
    {
     "name": "stdout",
     "output_type": "stream",
     "text": [
      "{}\n",
      "0 2083770.0\n",
      "[--------------------------------------------------] 0.0% [0.24 s]{}\n",
      "0 2083770.0\n",
      "[--------------------------------------------------] 0.0% [0.0 s]"
     ]
    },
    {
     "name": "stderr",
     "output_type": "stream",
     "text": [
      "/Users/mdbartos/Git/pipedream/pipedream_solver/nsuperlink.py:1332: LinAlgWarning: Ill-conditioned matrix (rcond=8.9739e-131): result may not be accurate.\n",
      "  H_j_next = scipy.linalg.solve(l, r)\n",
      "/Users/mdbartos/Git/pipedream/pipedream_solver/nsuperlink.py:1332: LinAlgWarning: Ill-conditioned matrix (rcond=4.07945e-131): result may not be accurate.\n",
      "  H_j_next = scipy.linalg.solve(l, r)\n"
     ]
    },
    {
     "name": "stdout",
     "output_type": "stream",
     "text": [
      "[==================================================] 100.0% [47.88 s]"
     ]
    },
    {
     "data": {
      "image/png": "[encoded data removed]",
      "text/plain": [
       "<Figure size 1440x360 with 1 Axes>"
      ]
     },
     "metadata": {
      "needs_background": "light"
     },
     "output_type": "display_data"
    }
   ],
   "source": [
    "\n",
    "start_date_list = ['20220818','20220820','20220822 12:00:01','20220901']\n",
    "end_date_list = ['20220819','20220822 12:00:00','20220831','20220910']\n",
    "\n",
    "start_date_list = ['20220818']\n",
    "end_date_list = ['20220910']\n",
    "\n",
    "\n",
    "final_data={}\n",
    "result=pd.DataFrame()\n",
    "\n",
    "P_now=0\n",
    "\n",
    "for start_date, end_date in zip(start_date_list,end_date_list):\n",
    "    \n",
    "    file_name='startDate'+str(start_date)+'_endDate'+str(end_date)\n",
    "    print(file_name)\n",
    "\n",
    "    precip__in=precip_data(LCRA, start_date, end_date)\n",
    "    if precip__in.empty != True:\n",
    "        excess_precip__in,Q_in,P_now=Model_initialization(precip__in,subbasins,P_now,decay=0.99675)\n",
    "        H_j,h_Ik,Q_uk,Q_dk,h_j,final_data=Model_simulation(excess_precip__in,Q_in,dt,superlinks,superjunctions,final_data)\n",
    "        final_data['t']=0\n",
    "        fig, ax = plt.subplots(figsize=(20, 5))\n",
    "\n",
    "        ### Cache sensor data to avoid putting strain on server\n",
    "#        s = run_query(client, 'value', 'depth', {'node_id' : 'Bridge3'})\n",
    "        x2=s[start_date:end_date]\n",
    "        t_b2 =s[start_date:end_date].index\n",
    "        plt.plot(t_b2,x2,'o-', label='Bridge3')\n",
    "\n",
    "        result=pd.concat([result, h_j])\n",
    "\n",
    "        h_j[site_junction_name].plot(ax=ax, label='Model', c='blue', zorder=3)\n",
    "        \n",
    "        #save_fig_precip(file_name)\n",
    "        #save_fig_depth(file_name)\n",
    "        #save_fig_flowrate(file_name)\n",
    "        #save_fig_calibration(file_name)\n"
   ]
  },
  {
   "cell_type": "code",
   "execution_count": 35,
   "metadata": {},
   "outputs": [],
   "source": [
    "#pd.DataFrame(s).rename(columns={0 : 'Bridge3'}).to_csv('../data/Bridge3.csv')"
   ]
  },
  {
   "cell_type": "markdown",
   "metadata": {},
   "source": [
    "# Calibration "
   ]
  },
  {
   "cell_type": "code",
   "execution_count": 17,
   "metadata": {},
   "outputs": [
    {
     "data": {
      "text/plain": [
       "Text(0, 0.5, 'Discharge')"
      ]
     },
     "execution_count": 17,
     "metadata": {},
     "output_type": "execute_result"
    },
    {
     "data": {
      "image/png": "[encoded data removed]",
      "text/plain": [
       "<Figure size 720x360 with 1 Axes>"
      ]
     },
     "metadata": {
      "needs_background": "light"
     },
     "output_type": "display_data"
    }
   ],
   "source": [
    "fig, ax = plt.subplots(figsize=(10, 5))\n",
    "plt.scatter(h_j[site_junction_name], Q_uk[site_link_name].values, label='Model')\n",
    "plt.scatter(m_per_ft * LCRA['depth__ft'], m_per_ft**3 * LCRA['flow_rate__cfs'], label='LCRA')\n",
    "plt.legend()\n",
    "plt.xlabel('Depth')\n",
    "plt.ylabel('Discharge')"
   ]
  },
  {
   "cell_type": "code",
   "execution_count": 18,
   "metadata": {},
   "outputs": [
    {
     "name": "stderr",
     "output_type": "stream",
     "text": [
      "/var/folders/90/3dlsbdbn589dmj2g6887__dr0000gn/T/ipykernel_20777/1243340586.py:12: SettingWithCopyWarning: \n",
      "A value is trying to be set on a copy of a slice from a DataFrame\n",
      "\n",
      "See the caveats in the documentation: https://pandas.pydata.org/pandas-docs/stable/user_guide/indexing.html#returning-a-view-versus-a-copy\n",
      "  superlinks['g2'][21]=0.00001 # To calculate normal flow _Trapezoidal case require non zero value\n"
     ]
    }
   ],
   "source": [
    "n=superlinks.iloc[21]['n']\n",
    "dx=superlinks.iloc[21]['dx']\n",
    "z_inv_0=superjunctions.iloc[14]['z_inv']\n",
    "z_inv_1=superjunctions.iloc[15]['z_inv']\n",
    "S_0 = (z_inv_0 - z_inv_1) / dx\n",
    "h=m_per_ft * LCRA['depth__ft']\n",
    "Q=m_per_ft**3 * LCRA['flow_rate__cfs']\n",
    "h=h.fillna(0)\n",
    "Q=Q.fillna(0)\n",
    "g1,g2,g3=superlinks.iloc[21]['g1':'g3']\n",
    "\n",
    "superlinks['g2'][21]=0.00001 # To calculate normal flow _Trapezoidal case require non zero value \n",
    "g2=0.00001\n",
    "\n"
   ]
  },
  {
   "cell_type": "code",
   "execution_count": 19,
   "metadata": {},
   "outputs": [],
   "source": [
    "from pipedream_solver import ngeometry\n",
    "import scipy.optimize\n",
    "def normal_flow(h, g1, g2, g3, S_0, n):\n",
    "    phi = 1.\n",
    "    Q = (phi * np.sqrt(S_0) / n) * (ngeometry.Trapezoidal_A_ik(h, h, g1, g2, g3)**(5/3)\n",
    "                                      / ngeometry.Trapezoidal_Pe_ik(h, h, g1, g2, g3)**(2/3))\n",
    "    return Q\n",
    "\n",
    "def opt_normal_flow(h, g2, g3, n, g1=g1, S_0=S_0):\n",
    "    N = len(h)\n",
    "    Q = np.zeros(N, dtype=np.float64)\n",
    "    for i in range(N):\n",
    "        h_i = h[i]\n",
    "        Q_i = normal_flow(h_i, g1, g2, g3, S_0, n)\n",
    "        Q[i] = Q_i\n",
    "    return Q"
   ]
  },
  {
   "cell_type": "code",
   "execution_count": 20,
   "metadata": {
    "scrolled": true
   },
   "outputs": [
    {
     "data": {
      "text/plain": [
       "<matplotlib.legend.Legend at 0x29e41c5e0>"
      ]
     },
     "execution_count": 20,
     "metadata": {},
     "output_type": "execute_result"
    },
    {
     "data": {
      "image/png": "[encoded data removed]",
      "text/plain": [
       "<Figure size 432x288 with 1 Axes>"
      ]
     },
     "metadata": {
      "needs_background": "light"
     },
     "output_type": "display_data"
    }
   ],
   "source": [
    "Q_c = np.asarray([normal_flow(h_i, g1, g2, g3, S_0, n) for h_i in h])\n",
    "plt.scatter(h_j[site_junction_name], Q_uk[site_link_name].values, label='Model')\n",
    "plt.scatter(h, Q_c, label='Q_c')\n",
    "plt.scatter(m_per_ft * LCRA['depth__ft'], m_per_ft**3 * LCRA['flow_rate__cfs'], label='LCRA')\n",
    "plt.legend()"
   ]
  },
  {
   "cell_type": "code",
   "execution_count": 19,
   "metadata": {},
   "outputs": [
    {
     "name": "stderr",
     "output_type": "stream",
     "text": [
      "/var/folders/0z/96nhv68546j11lkz0bh80tqw0000gp/T/ipykernel_10909/3984921689.py:3: SettingWithCopyWarning: \n",
      "A value is trying to be set on a copy of a slice from a DataFrame\n",
      "\n",
      "See the caveats in the documentation: https://pandas.pydata.org/pandas-docs/stable/user_guide/indexing.html#returning-a-view-versus-a-copy\n",
      "  superlinks['g2'][21]=g2_\n",
      "/var/folders/0z/96nhv68546j11lkz0bh80tqw0000gp/T/ipykernel_10909/3984921689.py:4: SettingWithCopyWarning: \n",
      "A value is trying to be set on a copy of a slice from a DataFrame\n",
      "\n",
      "See the caveats in the documentation: https://pandas.pydata.org/pandas-docs/stable/user_guide/indexing.html#returning-a-view-versus-a-copy\n",
      "  superlinks['g3'][21]=g3_\n",
      "/var/folders/0z/96nhv68546j11lkz0bh80tqw0000gp/T/ipykernel_10909/3984921689.py:5: SettingWithCopyWarning: \n",
      "A value is trying to be set on a copy of a slice from a DataFrame\n",
      "\n",
      "See the caveats in the documentation: https://pandas.pydata.org/pandas-docs/stable/user_guide/indexing.html#returning-a-view-versus-a-copy\n",
      "  superlinks['n'][21]=n_\n"
     ]
    }
   ],
   "source": [
    "fit = scipy.optimize.curve_fit(opt_normal_flow, h, Q, p0=(g2, g3, n), bounds=([0., 0., 0.01], [10., 10., 0.1]))\n",
    "g2_, g3_, n_ =  fit[0]\n",
    "superlinks['g2'][21]=g2_\n",
    "superlinks['g3'][21]=g3_\n",
    "superlinks['n'][21]=n_"
   ]
  },
  {
   "cell_type": "code",
   "execution_count": 20,
   "metadata": {},
   "outputs": [
    {
     "data": {
      "text/plain": [
       "(7.974988110166534e-17, 7.29805521214249, 0.053068834843674126)"
      ]
     },
     "execution_count": 20,
     "metadata": {},
     "output_type": "execute_result"
    }
   ],
   "source": [
    "g2_, g3_, n_ "
   ]
  },
  {
   "cell_type": "code",
   "execution_count": 37,
   "metadata": {},
   "outputs": [
    {
     "name": "stderr",
     "output_type": "stream",
     "text": [
      "/var/folders/90/3dlsbdbn589dmj2g6887__dr0000gn/T/ipykernel_21159/1069413583.py:5: SettingWithCopyWarning: \n",
      "A value is trying to be set on a copy of a slice from a DataFrame.\n",
      "Try using .loc[row_indexer,col_indexer] = value instead\n",
      "\n",
      "See the caveats in the documentation: https://pandas.pydata.org/pandas-docs/stable/user_guide/indexing.html#returning-a-view-versus-a-copy\n",
      "  LCRA['dt__s'] = np.roll(pd.Series(LCRA.index).diff(1).dt.seconds.values, -1)\n",
      "/var/folders/90/3dlsbdbn589dmj2g6887__dr0000gn/T/ipykernel_21159/1069413583.py:7: SettingWithCopyWarning: \n",
      "A value is trying to be set on a copy of a slice from a DataFrame.\n",
      "Try using .loc[row_indexer,col_indexer] = value instead\n",
      "\n",
      "See the caveats in the documentation: https://pandas.pydata.org/pandas-docs/stable/user_guide/indexing.html#returning-a-view-versus-a-copy\n",
      "  LCRA['precip_rate__in_per_s'] = LCRA['precip_tot__in'] / LCRA['dt__s']\n"
     ]
    }
   ],
   "source": [
    "precip__in=precip_data(LCRA, start_date, end_date)"
   ]
  },
  {
   "cell_type": "code",
   "execution_count": 30,
   "metadata": {},
   "outputs": [],
   "source": [
    "CN = 90\n",
    "P_now = 0.\n",
    "excess_precip_cum__in, excess_precip__in, P_now = scs_excess_precipitation(precip__in, CN,P_now, decay=0.998)"
   ]
  },
  {
   "cell_type": "code",
   "execution_count": 31,
   "metadata": {},
   "outputs": [
    {
     "data": {
      "text/plain": [
       "[<matplotlib.lines.Line2D at 0x2924ccc70>]"
      ]
     },
     "execution_count": 31,
     "metadata": {},
     "output_type": "execute_result"
    },
    {
     "data": {
      "image/png": "[encoded data removed]",
      "text/plain": [
       "<Figure size 432x288 with 1 Axes>"
      ]
     },
     "metadata": {
      "needs_background": "light"
     },
     "output_type": "display_data"
    }
   ],
   "source": [
    "plt.plot(excess_precip_cum__in)"
   ]
  },
  {
   "cell_type": "code",
   "execution_count": 29,
   "metadata": {},
   "outputs": [
    {
     "data": {
      "text/plain": [
       "[<matplotlib.lines.Line2D at 0x2a112feb0>]"
      ]
     },
     "execution_count": 29,
     "metadata": {},
     "output_type": "execute_result"
    },
    {
     "data": {
      "image/png": "[encoded data removed]",
      "text/plain": [
       "<Figure size 432x288 with 1 Axes>"
      ]
     },
     "metadata": {
      "needs_background": "light"
     },
     "output_type": "display_data"
    }
   ],
   "source": [
    "plt.plot(excess_precip__in)"
   ]
  },
  {
   "cell_type": "code",
   "execution_count": null,
   "metadata": {},
   "outputs": [],
   "source": []
  }
 ],
 "metadata": {
  "kernelspec": {
   "display_name": "Python 3 (ipykernel)",
   "language": "python",
   "name": "python3"
  },
  "language_info": {
   "codemirror_mode": {
    "name": "ipython",
    "version": 3
   },
   "file_extension": ".py",
   "mimetype": "text/x-python",
   "name": "python",
   "nbconvert_exporter": "python",
   "pygments_lexer": "ipython3",
   "version": "3.9.11"
  }
 },
 "nbformat": 4,
 "nbformat_minor": 4
}
