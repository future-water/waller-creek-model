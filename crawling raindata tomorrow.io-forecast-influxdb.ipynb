{
 "cells": [
  {
   "cell_type": "code",
   "execution_count": 1,
   "metadata": {},
   "outputs": [],
   "source": [
    "import numpy as np \n",
    "import quadprog\n",
    "import matplotlib.pyplot as plt \n",
    "import pandas as pd\n",
    "import requests\n",
    "import ast\n",
    "import time\n",
    "import schedule\n",
    "from datetime import date\n",
    "import json\n",
    "from datetime import datetime\n",
    "from influxdb import InfluxDBClient"
   ]
  },
  {
   "cell_type": "code",
   "execution_count": 2,
   "metadata": {},
   "outputs": [],
   "source": [
    "client = InfluxDBClient(host='ec2-13-58-107-29.us-east-2.compute.amazonaws.com',username='ewre_student',password='happylife!',database='tomorrow_api' )"
   ]
  },
  {
   "cell_type": "code",
   "execution_count": 3,
   "metadata": {},
   "outputs": [],
   "source": [
    "import requests\n",
    "\n",
    "url = \"https://api.tomorrow.io/v4/weather/forecast?location=42.3478%2C%20-71.0466&fields=temperature&units=metric&timesteps=1m&startTime=now&endTime=nowPlus6h&apikey=VYLHerX2Zbk6nBvVo4VTkpGg2JFJTfw3\"\n",
    "\n",
    "headers = {\n",
    "    \"Accept\": \"application/json\",\n",
    "    \"Accept-Encoding\": \"gzip\"\n",
    "}\n",
    "\n",
    "response = requests.get(url, headers=headers)\n"
   ]
  },
  {
   "cell_type": "code",
   "execution_count": 4,
   "metadata": {},
   "outputs": [],
   "source": [
    "location=[('location', '30.28412, -97.73118'), #PRC\n",
    "('location', '30.3265250, -97.7199113'),#Relly pond\n",
    "('location', '30.2871667, -97.7341111')]#bridge5"
   ]
  },
  {
   "cell_type": "code",
   "execution_count": null,
   "metadata": {},
   "outputs": [],
   "source": []
  },
  {
   "cell_type": "code",
   "execution_count": 5,
   "metadata": {},
   "outputs": [],
   "source": [
    "def collect_tomorrow_API_forecast_data(i):\n",
    "    set_location=location[i]\n",
    "\n",
    "    params = (set_location,('units', 'imperial'),('startTime','now'),('endTime','nowPlus2h'),('apikey', 'VYLHerX2Zbk6nBvVo4VTkpGg2JFJTfw3'),)\n",
    "    headers = {\n",
    "    \"Accept\": \"application/json\",\n",
    "    \"Accept-Encoding\": \"gzip\"}\n",
    "\n",
    "    response = requests.get('https://api.tomorrow.io/v4/weather/forecast?', params=params, headers=headers)\n",
    "    time.sleep(10)\n",
    "\n",
    "    #change to dictionary format\n",
    "    content=response.content\n",
    "    dict_str = content.decode(\"ascii\")\n",
    "    dict_str\n",
    "    my_data = json.loads(dict_str)\n",
    "    value=my_data['timelines']['minutely']\n",
    "\n",
    "\n",
    "    _location=location[i][1]\n",
    "    _measurement='weather_forecast'\n",
    "    json_body = []\n",
    "    for i in range(len(value)):\n",
    "        current_time=value[i]['time']\n",
    "        rain_probability=value[i]['values']['precipitationProbability']\n",
    "        temp=value[i]['values']['temperature']\n",
    "        rain_intensity=value[i]['values']['rainIntensity']\n",
    "\n",
    "        json_data={\n",
    "                        \"measurement\": _measurement,\n",
    "                        \"tags\": {\n",
    "                            \"location\":_location\n",
    "                        },\n",
    "                        \"time\": current_time,\n",
    "                        \"fields\": {\n",
    "                            \"precipitationProbability\": float(rain_probability),\n",
    "                            \"temperature\": float(temp),\n",
    "                            \"rainIntensity\": float(rain_intensity)\n",
    "\n",
    "                        }\n",
    "                    },\n",
    "        json_body.extend(json_data)\n",
    "    client.write_points(json_body)\n",
    "\n",
    "\n",
    "\n",
    "\n"
   ]
  },
  {
   "cell_type": "code",
   "execution_count": 6,
   "metadata": {},
   "outputs": [],
   "source": [
    "#Tomorrow.io API https://docs.tomorrow.io/reference/get-timelines\n",
    "# use schedule module to do work\n",
    "\n",
    "\n",
    "def crawling_job():\n",
    "    for i in range(0,len(location)):\n",
    "        collect_tomorrow_API_forecast_data(i)\n",
    "\n",
    "     \n",
    "                        \n",
    "            "
   ]
  },
  {
   "cell_type": "code",
   "execution_count": null,
   "metadata": {},
   "outputs": [],
   "source": [
    "\n",
    "#Adaptive crawling -pretest for collecting date \n",
    "schedule.every().minute.at(\":15\").do(crawling_job)\n",
    "while True:\n",
    "    schedule.run_pending()\n",
    "    time.sleep(10)\n",
    "       "
   ]
  },
  {
   "cell_type": "code",
   "execution_count": null,
   "metadata": {},
   "outputs": [],
   "source": []
  }
 ],
 "metadata": {
  "kernelspec": {
   "display_name": "Python 3 (ipykernel)",
   "language": "python",
   "name": "python3"
  },
  "language_info": {
   "codemirror_mode": {
    "name": "ipython",
    "version": 3
   },
   "file_extension": ".py",
   "mimetype": "text/x-python",
   "name": "python",
   "nbconvert_exporter": "python",
   "pygments_lexer": "ipython3",
   "version": "3.9.13"
  }
 },
 "nbformat": 4,
 "nbformat_minor": 2
}
