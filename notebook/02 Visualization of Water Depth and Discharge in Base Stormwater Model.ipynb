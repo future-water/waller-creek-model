{
 "cells": [
  {
   "cell_type": "code",
   "execution_count": 1,
   "id": "2e7d43c4",
   "metadata": {},
   "outputs": [],
   "source": [
    "import numpy as np\n",
    "import pandas as pd\n",
    "import matplotlib.pyplot as plt\n",
    "import matplotlib.dates as mdates\n",
    "from datetime import datetime, timedelta\n",
    "from pytz import timezone\n",
    "import math"
   ]
  },
  {
   "cell_type": "markdown",
   "id": "095b4a85",
   "metadata": {},
   "source": [
    "# Unit change "
   ]
  },
  {
   "cell_type": "code",
   "execution_count": 2,
   "id": "a3b53f6f",
   "metadata": {},
   "outputs": [],
   "source": [
    "inch_to_mm=25.4\n",
    "ft_to_meter=0.305"
   ]
  },
  {
   "cell_type": "markdown",
   "id": "9cc870c3",
   "metadata": {},
   "source": [
    "# Load precipitation data"
   ]
  },
  {
   "cell_type": "code",
   "execution_count": 3,
   "id": "37431d7b",
   "metadata": {},
   "outputs": [
    {
     "name": "stderr",
     "output_type": "stream",
     "text": [
      "/Users/future_water_system/opt/anaconda3/lib/python3.9/site-packages/pandas/core/indexes/base.py:7588: FutureWarning: Dtype inference on a pandas object (Series, Index, ExtensionArray) is deprecated. The Index constructor will keep the original dtype in the future. Call `infer_objects` on the result to get the old behavior.\n",
      "  return Index(sequences[0], name=names)\n"
     ]
    }
   ],
   "source": [
    "# Add LCRA data (Flow, depth, and precipitation data for the 'Waller Creek at 23rd Street' gage from the LCRA site.)\n",
    "LCRA= pd.read_excel('../data/LCRA_Export/LCRA_Export_2023.xlsx')[8:]\n",
    "LCRA = LCRA.set_index('Site Name')\n",
    "LCRA.index.name = 'Time'\n",
    "# Handle timezone\n",
    "LCRA = LCRA.tz_localize('US/Central', nonexistent='shift_forward').tz_convert('UTC')\n",
    "# Rename columns to be more descriptive\n",
    "LCRA = LCRA.rename(columns={'W3A' : 'depth__ft', 'W3A.1' : 'flow_rate__cfs', 'W3A.3' : 'precip_tot__in'})\n",
    "LCRA = LCRA.drop('W3A.2', axis=1)\n",
    "\n",
    "# LCRA depth and discharge flow monitoring data \n",
    "lcra_depth=LCRA['depth__ft']*ft_to_meter\n",
    "lcra_flow_cfs=LCRA['flow_rate__cfs']\n",
    "lcra_flow=lcra_flow_cfs*ft_to_meter*ft_to_meter*ft_to_meter\n",
    "\n",
    "#Load Forecast precipitation \n",
    "forecast = pd.read_csv('../data/rainfall_data/precip__in_forecast.csv', index_col=0)\n",
    "forecast.index = pd.to_datetime(pd.Series(forecast.index))\n",
    "forecast = forecast.tz_localize('UTC')"
   ]
  },
  {
   "cell_type": "code",
   "execution_count": 4,
   "id": "b067dcc4",
   "metadata": {},
   "outputs": [],
   "source": [
    "#plot precipitation graph \n",
    "\n",
    "def gauge_precip_data(LCRA,sample_interval_h):\n",
    "    # Compute dt for each time bin\n",
    "    LCRA['dt__s'] = np.roll(pd.Series(LCRA.index).diff(1).dt.seconds.values, -1)\n",
    "    # Compute precipitation rate from total inches and dt\n",
    "    LCRA['precip_rate__in_per_s'] = LCRA['precip_tot__in'] / LCRA['dt__s']\n",
    "\n",
    "    # Compute inches of precipitation for desired sample interval\n",
    "    precip__mm = sample_interval_h*inch_to_mm*3600 * LCRA['precip_rate__in_per_s'].resample(f'{sample_interval_h}h').mean().interpolate()\n",
    "   \n",
    "    return precip__mm\n",
    "\n",
    "def forecast_precip_data(forecast, sample_interval_h):\n",
    "    # Compute inches of precipitation for desired sample interval\n",
    "    forecast_precip__mm = sample_interval_h*inch_to_mm*60*60 * forecast['precip_rate__in_per_s'].resample(f'{sample_interval_h}h').mean().interpolate()\n",
    "    return forecast_precip__mm\n",
    "\n"
   ]
  },
  {
   "cell_type": "markdown",
   "id": "39147558",
   "metadata": {},
   "source": [
    "# Load depth, discharge data"
   ]
  },
  {
   "cell_type": "code",
   "execution_count": 6,
   "id": "c7e0c1e8",
   "metadata": {},
   "outputs": [
    {
     "ename": "KeyError",
     "evalue": "'Bridge3'",
     "output_type": "error",
     "traceback": [
      "\u001b[0;31m---------------------------------------------------------------------------\u001b[0m",
      "\u001b[0;31mKeyError\u001b[0m                                  Traceback (most recent call last)",
      "File \u001b[0;32m~/opt/anaconda3/lib/python3.9/site-packages/pandas/core/indexes/base.py:3805\u001b[0m, in \u001b[0;36mIndex.get_loc\u001b[0;34m(self, key)\u001b[0m\n\u001b[1;32m   3804\u001b[0m \u001b[38;5;28;01mtry\u001b[39;00m:\n\u001b[0;32m-> 3805\u001b[0m     \u001b[38;5;28;01mreturn\u001b[39;00m \u001b[38;5;28;43mself\u001b[39;49m\u001b[38;5;241;43m.\u001b[39;49m\u001b[43m_engine\u001b[49m\u001b[38;5;241;43m.\u001b[39;49m\u001b[43mget_loc\u001b[49m\u001b[43m(\u001b[49m\u001b[43mcasted_key\u001b[49m\u001b[43m)\u001b[49m\n\u001b[1;32m   3806\u001b[0m \u001b[38;5;28;01mexcept\u001b[39;00m \u001b[38;5;167;01mKeyError\u001b[39;00m \u001b[38;5;28;01mas\u001b[39;00m err:\n",
      "File \u001b[0;32mindex.pyx:167\u001b[0m, in \u001b[0;36mpandas._libs.index.IndexEngine.get_loc\u001b[0;34m()\u001b[0m\n",
      "File \u001b[0;32mindex.pyx:196\u001b[0m, in \u001b[0;36mpandas._libs.index.IndexEngine.get_loc\u001b[0;34m()\u001b[0m\n",
      "File \u001b[0;32mpandas/_libs/hashtable_class_helper.pxi:7081\u001b[0m, in \u001b[0;36mpandas._libs.hashtable.PyObjectHashTable.get_item\u001b[0;34m()\u001b[0m\n",
      "File \u001b[0;32mpandas/_libs/hashtable_class_helper.pxi:7089\u001b[0m, in \u001b[0;36mpandas._libs.hashtable.PyObjectHashTable.get_item\u001b[0;34m()\u001b[0m\n",
      "\u001b[0;31mKeyError\u001b[0m: 'Bridge3'",
      "\nThe above exception was the direct cause of the following exception:\n",
      "\u001b[0;31mKeyError\u001b[0m                                  Traceback (most recent call last)",
      "Cell \u001b[0;32mIn[6], line 18\u001b[0m\n\u001b[1;32m     15\u001b[0m model_gauge_flow\u001b[38;5;241m.\u001b[39mindex \u001b[38;5;241m=\u001b[39m pd\u001b[38;5;241m.\u001b[39mto_datetime(model_gauge_flow\u001b[38;5;241m.\u001b[39mindex)\n\u001b[1;32m     17\u001b[0m \u001b[38;5;66;03m# Read and process data for 'sensor_3'\u001b[39;00m\n\u001b[0;32m---> 18\u001b[0m sensor_3 \u001b[38;5;241m=\u001b[39m \u001b[43mpd\u001b[49m\u001b[38;5;241;43m.\u001b[39;49m\u001b[43mread_csv\u001b[49m\u001b[43m(\u001b[49m\u001b[38;5;124;43m'\u001b[39;49m\u001b[38;5;124;43m../data/sensor_measurements/Sensor3_classification.csv\u001b[39;49m\u001b[38;5;124;43m'\u001b[39;49m\u001b[43m,\u001b[49m\u001b[43m \u001b[49m\u001b[43mindex_col\u001b[49m\u001b[38;5;241;43m=\u001b[39;49m\u001b[43m[\u001b[49m\u001b[38;5;241;43m0\u001b[39;49m\u001b[43m]\u001b[49m\u001b[43m,\u001b[49m\u001b[43m \u001b[49m\u001b[43mconverters\u001b[49m\u001b[38;5;241;43m=\u001b[39;49m\u001b[43m{\u001b[49m\u001b[38;5;124;43m'\u001b[39;49m\u001b[38;5;124;43m0\u001b[39;49m\u001b[38;5;124;43m'\u001b[39;49m\u001b[43m:\u001b[49m\u001b[43m \u001b[49m\u001b[43mpd\u001b[49m\u001b[38;5;241;43m.\u001b[39;49m\u001b[43mto_datetime\u001b[49m\u001b[43m}\u001b[49m\u001b[43m)\u001b[49m\u001b[43m[\u001b[49m\u001b[38;5;124;43m'\u001b[39;49m\u001b[38;5;124;43mBridge3\u001b[39;49m\u001b[38;5;124;43m'\u001b[39;49m\u001b[43m]\u001b[49m\n\u001b[1;32m     19\u001b[0m sensor_3\u001b[38;5;241m.\u001b[39mindex \u001b[38;5;241m=\u001b[39m pd\u001b[38;5;241m.\u001b[39mto_datetime(sensor_3\u001b[38;5;241m.\u001b[39mindex)\n",
      "File \u001b[0;32m~/opt/anaconda3/lib/python3.9/site-packages/pandas/core/frame.py:4090\u001b[0m, in \u001b[0;36mDataFrame.__getitem__\u001b[0;34m(self, key)\u001b[0m\n\u001b[1;32m   4088\u001b[0m \u001b[38;5;28;01mif\u001b[39;00m \u001b[38;5;28mself\u001b[39m\u001b[38;5;241m.\u001b[39mcolumns\u001b[38;5;241m.\u001b[39mnlevels \u001b[38;5;241m>\u001b[39m \u001b[38;5;241m1\u001b[39m:\n\u001b[1;32m   4089\u001b[0m     \u001b[38;5;28;01mreturn\u001b[39;00m \u001b[38;5;28mself\u001b[39m\u001b[38;5;241m.\u001b[39m_getitem_multilevel(key)\n\u001b[0;32m-> 4090\u001b[0m indexer \u001b[38;5;241m=\u001b[39m \u001b[38;5;28;43mself\u001b[39;49m\u001b[38;5;241;43m.\u001b[39;49m\u001b[43mcolumns\u001b[49m\u001b[38;5;241;43m.\u001b[39;49m\u001b[43mget_loc\u001b[49m\u001b[43m(\u001b[49m\u001b[43mkey\u001b[49m\u001b[43m)\u001b[49m\n\u001b[1;32m   4091\u001b[0m \u001b[38;5;28;01mif\u001b[39;00m is_integer(indexer):\n\u001b[1;32m   4092\u001b[0m     indexer \u001b[38;5;241m=\u001b[39m [indexer]\n",
      "File \u001b[0;32m~/opt/anaconda3/lib/python3.9/site-packages/pandas/core/indexes/base.py:3812\u001b[0m, in \u001b[0;36mIndex.get_loc\u001b[0;34m(self, key)\u001b[0m\n\u001b[1;32m   3807\u001b[0m     \u001b[38;5;28;01mif\u001b[39;00m \u001b[38;5;28misinstance\u001b[39m(casted_key, \u001b[38;5;28mslice\u001b[39m) \u001b[38;5;129;01mor\u001b[39;00m (\n\u001b[1;32m   3808\u001b[0m         \u001b[38;5;28misinstance\u001b[39m(casted_key, abc\u001b[38;5;241m.\u001b[39mIterable)\n\u001b[1;32m   3809\u001b[0m         \u001b[38;5;129;01mand\u001b[39;00m \u001b[38;5;28many\u001b[39m(\u001b[38;5;28misinstance\u001b[39m(x, \u001b[38;5;28mslice\u001b[39m) \u001b[38;5;28;01mfor\u001b[39;00m x \u001b[38;5;129;01min\u001b[39;00m casted_key)\n\u001b[1;32m   3810\u001b[0m     ):\n\u001b[1;32m   3811\u001b[0m         \u001b[38;5;28;01mraise\u001b[39;00m InvalidIndexError(key)\n\u001b[0;32m-> 3812\u001b[0m     \u001b[38;5;28;01mraise\u001b[39;00m \u001b[38;5;167;01mKeyError\u001b[39;00m(key) \u001b[38;5;28;01mfrom\u001b[39;00m \u001b[38;5;21;01merr\u001b[39;00m\n\u001b[1;32m   3813\u001b[0m \u001b[38;5;28;01mexcept\u001b[39;00m \u001b[38;5;167;01mTypeError\u001b[39;00m:\n\u001b[1;32m   3814\u001b[0m     \u001b[38;5;66;03m# If we have a listlike key, _check_indexing_error will raise\u001b[39;00m\n\u001b[1;32m   3815\u001b[0m     \u001b[38;5;66;03m#  InvalidIndexError. Otherwise we fall through and re-raise\u001b[39;00m\n\u001b[1;32m   3816\u001b[0m     \u001b[38;5;66;03m#  the TypeError.\u001b[39;00m\n\u001b[1;32m   3817\u001b[0m     \u001b[38;5;28mself\u001b[39m\u001b[38;5;241m.\u001b[39m_check_indexing_error(key)\n",
      "\u001b[0;31mKeyError\u001b[0m: 'Bridge3'"
     ]
    }
   ],
   "source": [
    "# Read and process data for 'model_gauge_depth'\n",
    "model_gauge_depth = pd.read_csv('../data/model_results/h_j_gauge_h3.csv', index_col=[0])\n",
    "model_gauge_depth.index = pd.to_datetime(model_gauge_depth.index)\n",
    "\n",
    "# Read and process data for 'model_forecast_depth'\n",
    "model_forecast_depth = pd.read_csv('../data/model_results/h_j_forecast_h3.csv', index_col=[0])\n",
    "model_forecast_depth.index = pd.to_datetime(model_forecast_depth.index)\n",
    "\n",
    "# Read and process data for 'model_forecast_flow'\n",
    "model_forecast_flow = pd.read_csv('../data/model_results/Q_uk_forecast_h3.csv', index_col=[0])\n",
    "model_forecast_flow.index = pd.to_datetime(model_forecast_flow.index)\n",
    "\n",
    "# Read and process data for 'model_gauge_flow'\n",
    "model_gauge_flow = pd.read_csv('../data/model_results/Q_uk_gauge_h3.csv', index_col=[0])\n",
    "model_gauge_flow.index = pd.to_datetime(model_gauge_flow.index)\n",
    "\n",
    "# Read and process data for 'sensor_3'\n",
    "sensor_3 = pd.read_csv('../data/sensor_measurements/Sensor3_classification.csv', index_col=[0], converters={'0': pd.to_datetime})['Bridge3']\n",
    "sensor_3.index = pd.to_datetime(sensor_3.index)"
   ]
  },
  {
   "cell_type": "code",
   "execution_count": null,
   "id": "f4cfa94b",
   "metadata": {},
   "outputs": [],
   "source": [
    "# Define start and end dates\n",
    "start_date = datetime(2023, 4, 5, 0, 0, 0)\n",
    "end_date = datetime(2023, 5, 20, 0, 0, 0)\n",
    "\n",
    "# Create subplots\n",
    "fig, ax = plt.subplots(3, figsize=(7.5, 9), gridspec_kw={'height_ratios': [2, 3, 3]})\n",
    "\n",
    "# Plot precipitation data\n",
    "sample_interval_h=8\n",
    "precip__mm = gauge_precip_data(LCRA,sample_interval_h)\n",
    "ax[0].bar(precip__mm.index, precip__mm, width=0.22, color='k', label='Raingauge')\n",
    "ax[0].legend(fontsize=12, loc='lower left')\n",
    "ax[0].set_ylabel('Precip(mm)', fontsize=13)\n",
    "ax[0].set_ylim(0, 45)\n",
    "ax[0].invert_yaxis()\n",
    "ax[0].get_xaxis().set_visible(False)\n",
    "ax[0].set_title('(a) Near real-time rain gauge', fontsize=15, loc='left')\n",
    "\n",
    "# Plot depth data\n",
    "ax[1].set_ylim(0, 2)\n",
    "ax[1].plot(model_gauge_depth, label='Model_raingauge', color='blue',zorder=3,  linewidth=1.1)\n",
    "ax[1].plot(sensor_3,  label='Sensor3', color='tab:orange',linewidth=1.3)\n",
    "ax[1].set_ylabel('Depth(m)', fontsize=13)\n",
    "ax[1].legend(fontsize=12, loc='upper left')\n",
    "ax[1].get_xaxis().set_visible(False)\n",
    "\n",
    "# Plot discharge data\n",
    "ax[2].set_ylim(0, 25)\n",
    "ax[2].plot(model_gauge_flow['R_WLR17'], label='Model_raingauge', color='blue',zorder=3,  linewidth=1.1)\n",
    "ax[2].plot(lcra_flow,  label='Monitoring_site', color='m',linewidth=1.3)\n",
    "ax[2].set_ylabel('Discharge(m$^{3}$/s)', fontsize=13)\n",
    "ax[2].xaxis.set_major_formatter(mdates.DateFormatter('%m/%d'))\n",
    "ax[2].legend(fontsize=12, loc='upper left')\n",
    "\n",
    "# Set the x-axis limits for all subplots\n",
    "ax[0].set_xlim(start_date, end_date)\n",
    "ax[1].set_xlim(start_date, end_date)\n",
    "ax[2].set_xlim(start_date, end_date)\n",
    "\n",
    "\n",
    "plt.show()"
   ]
  },
  {
   "cell_type": "code",
   "execution_count": null,
   "id": "79d6b342",
   "metadata": {},
   "outputs": [],
   "source": [
    "# Define start and end dates\n",
    "start_date = datetime(2023, 4, 5, 0, 0, 0)\n",
    "end_date = datetime(2023, 5, 20, 0, 0, 0)\n",
    "\n",
    "# Create subplots\n",
    "fig, ax = plt.subplots(3,figsize=(7.5, 9),gridspec_kw={'height_ratios': [2,3, 3]})\n",
    "sample_interval_h=8\n",
    "forecast_precip__mm=forecast_precip_data(forecast,sample_interval_h)\n",
    "ax[0].bar(forecast_precip__mm.index,forecast_precip__mm,width=0.22,color='gray', alpha=0.7,label='Forecast')\n",
    "ax[0].legend(fontsize=12, loc='lower left')\n",
    "ax[0].set_ylabel('Precip(mm)',fontsize=13)\n",
    "ax[0].set_ylim(0, 45)\n",
    "ax[0].invert_yaxis()\n",
    "ax[0].get_xaxis().set_visible(False)\n",
    "ax[0].set_title('(b) Forecasted rain intensity', fontsize=15, loc='left')\n",
    "# Plot depth data\n",
    "ax[1].set_ylim(0, 2)\n",
    "ax[1].get_xaxis().set_visible(False)\n",
    "ax[1].plot(model_forecast_depth, label='Model_Forecast',color='c',zorder=3,  linewidth=1.2)\n",
    "ax[1].plot(sensor_3, label='Sensor3', color='tab:orange',linewidth=1.3)\n",
    "ax[1].set_ylabel('Depth(m)',fontsize=13)\n",
    "ax[1].legend(fontsize=12, loc='upper left')\n",
    "\n",
    "# Plot discharge data\n",
    "link3=model_forecast_flow['R_WLR17']\n",
    "ax[2].xaxis.set_major_formatter(mdates.DateFormatter('%m/%d'))\n",
    "ax[2].set_ylim(0, 32)\n",
    "ax[2].plot(link3[start_date:end_date], label='Model_Forecast',color='c',zorder=3,  linewidth=1.2)\n",
    "ax[2].plot(lcra_flow,label='Monitoring_site', color='m',linewidth=1.3)\n",
    "ax[2].set_ylabel('Discharge(m$^{3}$/s)',fontsize=13)\n",
    "ax[2].legend(fontsize=12, loc='upper left')\n",
    "\n",
    "# Set the x-axis limits for all subplots\n",
    "ax[0].set_xlim(start_date, end_date)\n",
    "ax[1].set_xlim(start_date, end_date)\n",
    "ax[2].set_xlim(start_date, end_date)\n"
   ]
  },
  {
   "cell_type": "code",
   "execution_count": null,
   "id": "1d71d3c0",
   "metadata": {},
   "outputs": [],
   "source": []
  }
 ],
 "metadata": {
  "kernelspec": {
   "display_name": "Python 3 (ipykernel)",
   "language": "python",
   "name": "python3"
  },
  "language_info": {
   "codemirror_mode": {
    "name": "ipython",
    "version": 3
   },
   "file_extension": ".py",
   "mimetype": "text/x-python",
   "name": "python",
   "nbconvert_exporter": "python",
   "pygments_lexer": "ipython3",
   "version": "3.9.18"
  }
 },
 "nbformat": 4,
 "nbformat_minor": 5
}
